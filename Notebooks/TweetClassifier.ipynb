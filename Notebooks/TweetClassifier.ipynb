{
  "cells": [
    {
      "cell_type": "markdown",
      "metadata": {
        "colab_type": "text",
        "id": "view-in-github"
      },
      "source": [
        "<a href=\"https://colab.research.google.com/github/LLT9798/Twitter_User_Gender_Age_Prediction/blob/master/Model1.ipynb\" target=\"_parent\"><img src=\"https://colab.research.google.com/assets/colab-badge.svg\" alt=\"Open In Colab\"/></a>"
      ]
    },
    {
      "cell_type": "code",
      "execution_count": null,
      "metadata": {},
      "outputs": [],
      "source": [
        "'''\n",
        "Author: Liam Lee\n",
        "\n",
        "Note on Data Availability and Script Sample:\n",
        "\n",
        "This script demonstrates the methodology used in our Twitter User Demographic Prediction project. \n",
        "It's important to note that the original dataset, essential for this analysis, is not available. \n",
        "As a result, the algorithms and parameter settings presented here may vary from those we used in our original experiments. \n",
        "This script is intended to showcase the modeling approach and structure rather than to replicate the exact outcomes of our initial study.\n",
        "'''"
      ]
    },
    {
      "cell_type": "code",
      "execution_count": null,
      "metadata": {
        "colab": {},
        "colab_type": "code",
        "id": "ztp68mbd1CSY"
      },
      "outputs": [],
      "source": [
        "import numpy as np\n",
        "import matplotlib.pyplot as plt\n",
        "import pandas as pd\n",
        "import string\n",
        "from sklearn.utils import shuffle\n",
        "\n",
        "nltk.download('wordnet')\n",
        "#pre-processing\n",
        "import re\n",
        "import nltk\n",
        "from nltk.stem import WordNetLemmatizer \n",
        "import emojis\n",
        "import regex\n",
        "\n",
        "# pytorch transformers\n",
        "from pytorch_pretrained_bert import BertTokenizer, BertModel, BertForMaskedLM\n",
        "import transformers as ppb \n",
        "\n",
        "#modeling\n",
        "from sklearn.model_selection import train_test_split\n",
        "from sklearn.naive_bayes import GaussianNB,BernoulliNB,MultinomialNB\n",
        "from sklearn.linear_model import LogisticRegression\n",
        "from sklearn.linear_model import RidgeClassifier\n",
        "from sklearn.ensemble import RandomForestClassifier\n",
        "from sklearn.svm import LinearSVC\n",
        "from sklearn.neural_network import MLPClassifier\n",
        "from sklearn.linear_model import SGDClassifier\n",
        "from sklearn.neighbors import KNeighborsClassifier\n",
        "from sklearn.svm import SVC\n",
        "from sklearn.gaussian_process import GaussianProcessClassifier\n",
        "from sklearn.gaussian_process.kernels import RBF\n",
        "from sklearn.ensemble import RandomForestClassifier, AdaBoostClassifier\n",
        "\n",
        "#CV\n",
        "from sklearn.pipeline import Pipeline\n",
        "from sklearn.model_selection import cross_val_score, GridSearchCV\n",
        "from sklearn.metrics import accuracy_score\n",
        "from sklearn.metrics import classification_report, confusion_matrix\n",
        "from sklearn import metrics\n",
        "from numpy import array\n",
        "from sklearn.model_selection import KFold\n",
        "\n",
        "# Authenticate and create the PyDrive client.\n",
        "from pydrive.auth import GoogleAuth\n",
        "from pydrive.drive import GoogleDrive\n",
        "from google.colab import auth\n",
        "from oauth2client.client import GoogleCredentials\n",
        "auth.authenticate_user()\n",
        "gauth = GoogleAuth()\n",
        "gauth.credentials = GoogleCredentials.get_application_default()\n",
        "drive = GoogleDrive(gauth)"
      ]
    },
    {
      "cell_type": "markdown",
      "metadata": {},
      "source": [
        "### Load labeled Tweet data"
      ]
    },
    {
      "cell_type": "code",
      "execution_count": 17,
      "metadata": {
        "colab": {
          "base_uri": "https://localhost:8080/",
          "height": 34
        },
        "colab_type": "code",
        "id": "l0wPy7Mt1ExJ",
        "outputId": "bf1347d0-b187-4643-8beb-4f2002cd112b"
      },
      "outputs": [
        {
          "data": {
            "text/plain": [
              "(2667, 15)"
            ]
          },
          "execution_count": 17,
          "metadata": {
            "tags": []
          },
          "output_type": "execute_result"
        }
      ],
      "source": [
        "link = 'https://drive.google.com/open?id=1x__GAttdEtRo8NjhItfaqATBlqxrcV7w'\n",
        "\n",
        "fluff, id = link.split('=')\n",
        "downloaded = drive.CreateFile({'id':id}) \n",
        "downloaded.GetContentFile('label_cleaned.csv')\n",
        "df = pd.read_csv('label_cleaned.csv')\n",
        "df.shape"
      ]
    },
    {
      "cell_type": "markdown",
      "metadata": {},
      "source": [
        "### Pre-processing"
      ]
    },
    {
      "cell_type": "code",
      "execution_count": 18,
      "metadata": {
        "colab": {},
        "colab_type": "code",
        "id": "6AEe5Tb21FDz"
      },
      "outputs": [],
      "source": [
        "#the model's main purpose is detecting gender, so we didn't pick 'location' feature\n",
        "df = df[['text', 'description', 'profile_sidebar_fill_color', 'gender']]\n",
        "df.rename(columns={'profile_sidebar_fill_color':'sidebar_color'}, inplace=True)\n",
        "\n",
        "df.dropna(inplace = True)\n",
        "df.drop(df[(df['gender'] == 'n') | \n",
        "           (df['gender'] == 'b')].index, inplace = True)"
      ]
    },
    {
      "cell_type": "code",
      "execution_count": 19,
      "metadata": {
        "colab": {
          "base_uri": "https://localhost:8080/",
          "height": 289
        },
        "colab_type": "code",
        "id": "g0PQcCIrn6d1",
        "outputId": "dfc55ccd-c225-4149-adcf-fc1a63ed3a65"
      },
      "outputs": [
        {
          "data": {
            "text/html": [
              "<div>\n",
              "<style scoped>\n",
              "    .dataframe tbody tr th:only-of-type {\n",
              "        vertical-align: middle;\n",
              "    }\n",
              "\n",
              "    .dataframe tbody tr th {\n",
              "        vertical-align: top;\n",
              "    }\n",
              "\n",
              "    .dataframe thead th {\n",
              "        text-align: right;\n",
              "    }\n",
              "</style>\n",
              "<table border=\"1\" class=\"dataframe\">\n",
              "  <thead>\n",
              "    <tr style=\"text-align: right;\">\n",
              "      <th></th>\n",
              "      <th>text</th>\n",
              "      <th>description</th>\n",
              "      <th>sidebar_color</th>\n",
              "      <th>gender</th>\n",
              "      <th>emoji</th>\n",
              "    </tr>\n",
              "  </thead>\n",
              "  <tbody>\n",
              "    <tr>\n",
              "      <th>0</th>\n",
              "      <td>every action movie: \\n“how many minutes do you need?” \\n“this many minutes” \\n“YOU HAVE A SOMEWHAT SMALLER NUMBER OF MINUTES”</td>\n",
              "      <td>25 • they/she • MFA playwright • published model • co-writer @ThankYou5Show • @blackouttheatre • put the ho in stay the fuck home</td>\n",
              "      <td>DDEEF6</td>\n",
              "      <td>0</td>\n",
              "      <td>0</td>\n",
              "    </tr>\n",
              "    <tr>\n",
              "      <th>1</th>\n",
              "      <td>@myotical sad girl cries from my barren American Netflix :'(</td>\n",
              "      <td>23, she/her, artist &amp; animal crossing lover - currently living it up on the isle of misthaven✌️💕 catch me elsewhere: https://linktr.ee/allmadihere ✨</td>\n",
              "      <td>DDEEF6</td>\n",
              "      <td>0</td>\n",
              "      <td>3</td>\n",
              "    </tr>\n",
              "    <tr>\n",
              "      <th>2</th>\n",
              "      <td>It’s not the rapist, it’s the child who’s the villain!</td>\n",
              "      <td>99% sarcasm &amp; righteous indignation. She/her. @mythsbaby is my podcast. I'm pretty honest about how shitty men were. Listen: http://apple.co/2uIOHS0</td>\n",
              "      <td>C9C1C9</td>\n",
              "      <td>0</td>\n",
              "      <td>0</td>\n",
              "    </tr>\n",
              "    <tr>\n",
              "      <th>3</th>\n",
              "      <td>@xXAutumnIvyXx This Cosplay is incredible and after seeing it I wouldn't mind a female Crow movie! Thank you for sh… https://t.co/koJeSO7icX</td>\n",
              "      <td>24|he/him|Straight|.Weeb.Loyal Friend. Team Rep for the Corgi Corps. #PawsUp🐾🐾Outlaws, Fusion and Reign are my teams baby! NSFW Post! #UpTheAnte #LetItReign</td>\n",
              "      <td>000000</td>\n",
              "      <td>1</td>\n",
              "      <td>2</td>\n",
              "    </tr>\n",
              "    <tr>\n",
              "      <th>4</th>\n",
              "      <td>@JUSOPP are you saying that it's not worth it? I can watch those super secret youtubes now that ARE premium-only, a… https://t.co/TKoFLvRwNx</td>\n",
              "      <td>33 year old female. OLDER BABIES! \\o/→#personalaccount o3o♥ Lil dose of sunsh- mostly rants, really. Need For Speed, Battlefield 3, art, traces, redraws, OCs.</td>\n",
              "      <td>DDEEF6</td>\n",
              "      <td>0</td>\n",
              "      <td>0</td>\n",
              "    </tr>\n",
              "  </tbody>\n",
              "</table>\n",
              "</div>"
            ],
            "text/plain": [
              "                                                                                                                                           text  ... emoji\n",
              "0                 every action movie: \\n“how many minutes do you need?” \\n“this many minutes” \\n“YOU HAVE A SOMEWHAT SMALLER NUMBER OF MINUTES”  ...     0\n",
              "1                                                                                  @myotical sad girl cries from my barren American Netflix :'(  ...     3\n",
              "2                                                                                        It’s not the rapist, it’s the child who’s the villain!  ...     0\n",
              "3  @xXAutumnIvyXx This Cosplay is incredible and after seeing it I wouldn't mind a female Crow movie! Thank you for sh… https://t.co/koJeSO7icX  ...     2\n",
              "4  @JUSOPP are you saying that it's not worth it? I can watch those super secret youtubes now that ARE premium-only, a… https://t.co/TKoFLvRwNx  ...     0\n",
              "\n",
              "[5 rows x 5 columns]"
            ]
          },
          "execution_count": 19,
          "metadata": {
            "tags": []
          },
          "output_type": "execute_result"
        }
      ],
      "source": [
        "emoji_count1 = df['text'].apply(lambda x : emojis.count(str(x)))\n",
        "emoji_count2 = df['description'].apply(lambda x : emojis.count(str(x)))\n",
        "df['emoji']= emoji_count1 + emoji_count2\n",
        "\n",
        "pd.options.display.max_colwidth = 9999\n",
        "df.head(5)"
      ]
    },
    {
      "cell_type": "code",
      "execution_count": 20,
      "metadata": {
        "colab": {
          "base_uri": "https://localhost:8080/",
          "height": 51
        },
        "colab_type": "code",
        "id": "bjPtLvWE1E8S",
        "outputId": "23d6104b-d313-4682-f1e2-73083fef27a0"
      },
      "outputs": [
        {
          "name": "stdout",
          "output_type": "stream",
          "text": [
            "1622 1623\n",
            "(1623, 4) (406, 4)\n"
          ]
        }
      ],
      "source": [
        "def doc_features(doc):\n",
        "    '''\n",
        "    Funnel filter for preprocessing\n",
        "    1) Handel HTML formatting\n",
        "    2) Lemmatization\n",
        "    3) Clean blank, paused words, and emoji\n",
        "    '''\n",
        "    #HTML & @ \n",
        "    pattern = r'(http\\S+)|(@\\S+)|(#\\S+)'\n",
        "    documents = re.sub(pattern, ' ', doc)\n",
        "\n",
        "    #To lower case & breakdown words\n",
        "    words = documents.lower().split()\n",
        "\n",
        "    #Stemmer & Return\n",
        "    features = []\n",
        "    stemmer = WordNetLemmatizer()\n",
        "    for word in words:\n",
        "        word = re.sub('[^a-zA-Z]', ' ',word)\n",
        "        features.append(stemmer.lemmatize(word))\n",
        "        \n",
        "    #remove blank    \n",
        "    while(\"\" in features) : \n",
        "        features.remove(\"\") \n",
        "        \n",
        "    return(features)\n",
        "    \n",
        "def text_cleaner(text):\n",
        "    clean_text = []\n",
        "    for i in text:\n",
        "        clean_text.append(' '.join(doc_features(i)))\n",
        "    \n",
        "    return clean_text\n",
        "\n",
        "\n",
        "df['text'] = text_cleaner(df['text']);\n",
        "df['description'] = text_cleaner(df['description']);\n",
        "\n",
        "#shuffle again\n",
        "df = shuffle(df, random_state= 100)\n",
        "df.reset_index(drop=True, inplace= True)\n",
        "m2_df_level0 = df[['text', 'description', 'emoji', 'gender']]\n",
        "\n",
        "#set train & hideout\n",
        "trainindex = int(len(m2_df_level0)*0.8)-1\n",
        "hideoutindex = trainindex + 1\n",
        "\n",
        "print(trainindex, hideoutindex)\n",
        "\n",
        "m2_df_level0_train = m2_df_level0[['text','description', 'emoji', 'gender']].loc[:trainindex]\n",
        "m2_df_level0_hideout = m2_df_level0[['text','description', 'emoji', 'gender']].loc[hideoutindex:]\n",
        "\n",
        "print (m2_df_level0_train.shape, m2_df_level0_hideout.shape)"
      ]
    },
    {
      "cell_type": "code",
      "execution_count": null,
      "metadata": {
        "colab": {
          "base_uri": "https://localhost:8080/",
          "height": 204
        },
        "colab_type": "code",
        "id": "-FFufXmhsOAH",
        "outputId": "92102be7-2496-45c2-bec9-dc3b633a8c95"
      },
      "outputs": [
        {
          "data": {
            "text/html": [
              "<div>\n",
              "<style scoped>\n",
              "    .dataframe tbody tr th:only-of-type {\n",
              "        vertical-align: middle;\n",
              "    }\n",
              "\n",
              "    .dataframe tbody tr th {\n",
              "        vertical-align: top;\n",
              "    }\n",
              "\n",
              "    .dataframe thead th {\n",
              "        text-align: right;\n",
              "    }\n",
              "</style>\n",
              "<table border=\"1\" class=\"dataframe\">\n",
              "  <thead>\n",
              "    <tr style=\"text-align: right;\">\n",
              "      <th></th>\n",
              "      <th>text</th>\n",
              "      <th>description</th>\n",
              "      <th>emoji</th>\n",
              "      <th>gender</th>\n",
              "    </tr>\n",
              "  </thead>\n",
              "  <tbody>\n",
              "    <tr>\n",
              "      <th>0</th>\n",
              "      <td>but me putting on acrylic nail dressed normally a me  or doing fantasy cosplays  regular tv show cosplays  etc  a</td>\n",
              "      <td>jeremy     he they   your trans    disabled cat dad who never ha enough coffee  writer  knitter  cat foster    wiccan  an angry little sager</td>\n",
              "      <td>5</td>\n",
              "      <td>1</td>\n",
              "    </tr>\n",
              "    <tr>\n",
              "      <th>1</th>\n",
              "      <td>he so pretty in it it s about the thick old hollywood style makeup</td>\n",
              "      <td>him              creative writer  the world is good and we belong here  evil twink arm candy   check my carrd for fandoms  pfp</td>\n",
              "      <td>3</td>\n",
              "      <td>1</td>\n",
              "    </tr>\n",
              "    <tr>\n",
              "      <th>2</th>\n",
              "      <td>you and   it s not my favorite movie ever but def one of our mutual favorite lines  which</td>\n",
              "      <td>dog lover hater  beach native attorney   i also draw   things</td>\n",
              "      <td>9</td>\n",
              "      <td>0</td>\n",
              "    </tr>\n",
              "    <tr>\n",
              "      <th>3</th>\n",
              "      <td>check out my broadcast from my playstation   live at</td>\n",
              "      <td>year old  psn  llpilsify   sf pf for</td>\n",
              "      <td>0</td>\n",
              "      <td>1</td>\n",
              "    </tr>\n",
              "    <tr>\n",
              "      <th>4</th>\n",
              "      <td>all of the above  he s also an obvious drug user when you watch him on tv  why ca</td>\n",
              "      <td>american immigrant  but always a scot  army wife  mother  dog lover  go joe biden  jaime harrison  joe cunningham</td>\n",
              "      <td>0</td>\n",
              "      <td>0</td>\n",
              "    </tr>\n",
              "  </tbody>\n",
              "</table>\n",
              "</div>"
            ],
            "text/plain": [
              "                                                                                                                 text  ... gender\n",
              "0  but me putting on acrylic nail dressed normally a me  or doing fantasy cosplays  regular tv show cosplays  etc  a   ...      1\n",
              "1                                              he so pretty in it it s about the thick old hollywood style makeup      ...      1\n",
              "2                          you and   it s not my favorite movie ever but def one of our mutual favorite lines  which   ...      0\n",
              "3                                                                check out my broadcast from my playstation   live at  ...      1\n",
              "4                                  all of the above  he s also an obvious drug user when you watch him on tv  why ca   ...      0\n",
              "\n",
              "[5 rows x 4 columns]"
            ]
          },
          "execution_count": 71,
          "metadata": {
            "tags": []
          },
          "output_type": "execute_result"
        }
      ],
      "source": [
        "m2_df_level0_train.head(5)"
      ]
    },
    {
      "cell_type": "code",
      "execution_count": null,
      "metadata": {},
      "outputs": [],
      "source": [
        "###"
      ]
    },
    {
      "cell_type": "markdown",
      "metadata": {},
      "source": [
        "### Feature Engineering\n",
        "#### DistilBERT"
      ]
    },
    {
      "cell_type": "code",
      "execution_count": 22,
      "metadata": {
        "colab": {},
        "colab_type": "code",
        "id": "Ew56qef43WAN"
      },
      "outputs": [],
      "source": [
        "# Apply DistilBERT as transformer to convert text data into sparse vector\n",
        "def text_vec_convert2(X_train, X_test):\n",
        "    '''\n",
        "    DistilBert is a pre-trained light version of BERT transformer \n",
        "    We don't need extra input to convert our text into vector\n",
        "    '''\n",
        "    model_class, tokenizer_class, pretrained_weights = (ppb.DistilBertModel, ppb.DistilBertTokenizer, \n",
        "                                                    'distilbert-base-uncased')\n",
        "    tokenizer = tokenizer_class.from_pretrained(pretrained_weights)\n",
        "    model = model_class.from_pretrained(pretrained_weights)\n",
        "    \n",
        "    tokenized_train = X_train.apply((lambda x: tokenizer.encode(x, add_special_tokens=True)))\n",
        "    tokenized_test = X_test.apply((lambda x: tokenizer.encode(x, add_special_tokens=True)))\n",
        "\n",
        "    padded_train = go_padded(tokenized_train)\n",
        "    padded_test = go_padded(tokenized_test)\n",
        "    \n",
        "    features_train = transform(padded_train, model)\n",
        "    features_test = transform(padded_test, model)\n",
        "   \n",
        "    return(features_train, features_test)\n",
        "    \n",
        "def go_padded(token):\n",
        "    '''\n",
        "    Pad the vector to make sparse vector\n",
        "    '''\n",
        "    max_len = 0\n",
        "    \n",
        "    for i in token.values:\n",
        "        if len(i) > max_len:\n",
        "            max_len = len(i)\n",
        "    \n",
        "    padded = np.array([i + [0]*(max_len-len(i)) for i in token.values])\n",
        "    return padded\n",
        "\n",
        "def transform(padded, model):\n",
        "    '''\n",
        "    The original BERT framework requires torch syntax to operate\n",
        "    '''\n",
        "    input_ids = torch.tensor(np.array(padded))\n",
        "    with torch.no_grad():\n",
        "        last_hidden_states = model(input_ids)  \n",
        "    \n",
        "    attention_mask = np.where(padded != 0, 1, 0)\n",
        "    attention_mask.shape    \n",
        "    input_ids = torch.tensor(padded)  \n",
        "    attention_mask = torch.tensor(attention_mask)\n",
        "    \n",
        "    with torch.no_grad():\n",
        "        last_hidden_states = model(input_ids, attention_mask=attention_mask)    \n",
        "    features = last_hidden_states[0][:,0,:].numpy()    \n",
        "    \n",
        "    return features\n"
      ]
    },
    {
      "cell_type": "code",
      "execution_count": null,
      "metadata": {},
      "outputs": [],
      "source": []
    },
    {
      "cell_type": "markdown",
      "metadata": {},
      "source": [
        "### Modeling - Two Layer Model"
      ]
    },
    {
      "cell_type": "markdown",
      "metadata": {},
      "source": [
        "#### Layer 0 - Weak Learners\n",
        "\n",
        "Take 60-70% of traning data and then split into sub train and test for layer 0.\n",
        "And then utilize the rest of 30 - 40% as validation set"
      ]
    },
    {
      "cell_type": "code",
      "execution_count": null,
      "metadata": {},
      "outputs": [],
      "source": [
        "\n",
        "def m2_lv0_modeling(X_train, y_train, X_column):\n",
        "    '''\n",
        "    Layer0 \n",
        "    Pipeline: \n",
        "    1) Fit data With 8 weake learners\n",
        "    2) Return prob associated with model\n",
        "    '''\n",
        "    X_sub_train, X_sub_test, y_sub_train, y_sub_test = train_test_split(X_train, y_train,\n",
        "                                                                        test_size=0.50, random_state=100)\n",
        "    estimators=[\n",
        "        ('logistic',LogisticRegression(solver='liblinear',penalty='l2')),\n",
        "        ('lasso',LogisticRegression(solver='liblinear',penalty='l1')),\n",
        "        ('elasticnet',SGDClassifier(loss='log', penalty='elasticnet')),\n",
        "        ('random_forest',RandomForestClassifier()),\n",
        "        ('adaBoost', AdaBoostClassifier()),\n",
        "        ('Grbf', GaussianProcessClassifier(1.0 * RBF(1.0))),\n",
        "        ('deep_nn',MLPClassifier(solver= 'lbfgs', max_iter= 400)),\n",
        "        ('GNB', GaussianNB())\n",
        "        ]\n",
        "    \n",
        "    pipes=[]\n",
        "    model_name = []\n",
        "    pred_sub_df = pd.DataFrame({'clf_name':[], 'prob_male':[]})\n",
        "    for model in estimators:\n",
        "        pipe=Pipeline(steps=[(model)])\n",
        "        pipe.fit(X_sub_train,y_sub_train)\n",
        "        \n",
        "        print(model[0], 'accuracy:', pipe.score(X_sub_test, y_sub_test))\n",
        "        pred_sub = pipe.predict_proba(X_sub_test)\n",
        "        pred_sub_df_temp = pd.DataFrame({'clf_name': X_column + '_' + model[0], \n",
        "                                         'prob_male':pred_sub[m, 1]} for m in range(len(pred_sub)))\n",
        "        pred_sub_df = pred_sub_df.append(pred_sub_df_temp, sort= False)\n",
        "        \n",
        "        pipes.append(pipe)\n",
        "        model_name.append(model[0])\n",
        "     \n",
        "    #return trained classfiers\n",
        "    return pipes, model_name, pred_sub_df, y_sub_test\n",
        "\n",
        "\n",
        "def m2_lv0_wrap(X_train, X_test, y_train):\n",
        "    \n",
        "    #take column name\n",
        "    X_column = X_train.name\n",
        "    \n",
        "    #text vectorize\n",
        "    X_train, X_test = text_vec_convert2(X_train, X_test)\n",
        "    \n",
        "    #modeling & get clf\n",
        "    clfs, clf_names, pred_sub_df, y_sub_test = m2_lv0_modeling(X_train, y_train, X_column)\n",
        "    \n",
        "    #apply X_test to clf for prediction\n",
        "    prediction_df = pd.DataFrame({'clf_name':[], 'prob_male':[]})\n",
        "    for i , j in zip(clfs, clf_names):\n",
        "        pred = i.predict_proba(X_test)\n",
        "        prediction_df_temp = pd.DataFrame({'clf_name': X_column + '_' + j,\n",
        "                                           'prob_male':pred[m, 1] } for m in range(len(pred)))\n",
        "        prediction_df = prediction_df.append(prediction_df_temp, sort= False)\n",
        "    #pivot prediction output\n",
        "    prediction_df = prediction_df.pivot(index= None, columns= 'clf_name', values= 'prob_male')\n",
        "    \n",
        "    \n",
        "    return prediction_df, pred_sub_df, y_sub_test"
      ]
    },
    {
      "cell_type": "code",
      "execution_count": 23,
      "metadata": {
        "colab": {
          "base_uri": "https://localhost:8080/",
          "height": 436,
          "referenced_widgets": [
            "0a772a5384eb4f75a668e33c1b91388d",
            "c4455082e5854056a66482cdfcb65d58",
            "6a69b814391a4de09c7237ee52d3c05b",
            "c92fd2fc7fc3459aad8198a8108aac99",
            "50b76f04e1c0457a8c06f574eb7a8adc",
            "2a69548bbc344de69bc98b8063930e1b",
            "1a1d168fbd3345338fb45d202800fbb1",
            "0be4a127c4fe4417882f1754e416e952",
            "867db754721d4a82b9d5b14adc028641",
            "771d58ba238e4bc1a4709ab081cc14cb",
            "36b0f25bd1084affa624f36ffb51798c",
            "08659539ccff4ad5a56079047eaf9035",
            "1c402fc86b3242f2b916aa4edeac0165",
            "1017b2c52b9342b9b697f683f3dc476f",
            "463ffeb7deb540d5aac5bc534d8893d5",
            "b4a63d48f85f46f9b208ddc284706af9",
            "390c4760bdf94cc8bbad30ec52c212ba",
            "6ec5ef4ce9eb4e4aa3cf6547a2426ed8",
            "055f5610a4f9474ab8c14720306174fa",
            "5df2acaaa82540f693ea99cbd6b2719f",
            "abcf51c647ae4eda8a604b67bba6a5af",
            "1cb5b405790847eb93e61805d06db462",
            "b930ca1e9ae74939aa0dc7e51b0a0402",
            "19a360d179334e7d9359f080a80c9b0c"
          ]
        },
        "colab_type": "code",
        "id": "cBpKm2lX3cN3",
        "outputId": "868a205e-7882-47ab-91b1-a7eecb5e0ef0"
      },
      "outputs": [
        {
          "data": {
            "application/vnd.jupyter.widget-view+json": {
              "model_id": "0a772a5384eb4f75a668e33c1b91388d",
              "version_major": 2,
              "version_minor": 0
            },
            "text/plain": [
              "HBox(children=(FloatProgress(value=0.0, description='Downloading', max=231508.0, style=ProgressStyle(descripti…"
            ]
          },
          "metadata": {
            "tags": []
          },
          "output_type": "display_data"
        },
        {
          "name": "stdout",
          "output_type": "stream",
          "text": [
            "\n"
          ]
        },
        {
          "data": {
            "application/vnd.jupyter.widget-view+json": {
              "model_id": "867db754721d4a82b9d5b14adc028641",
              "version_major": 2,
              "version_minor": 0
            },
            "text/plain": [
              "HBox(children=(FloatProgress(value=0.0, description='Downloading', max=442.0, style=ProgressStyle(description_…"
            ]
          },
          "metadata": {
            "tags": []
          },
          "output_type": "display_data"
        },
        {
          "name": "stdout",
          "output_type": "stream",
          "text": [
            "\n"
          ]
        },
        {
          "data": {
            "application/vnd.jupyter.widget-view+json": {
              "model_id": "390c4760bdf94cc8bbad30ec52c212ba",
              "version_major": 2,
              "version_minor": 0
            },
            "text/plain": [
              "HBox(children=(FloatProgress(value=0.0, description='Downloading', max=267967963.0, style=ProgressStyle(descri…"
            ]
          },
          "metadata": {
            "tags": []
          },
          "output_type": "display_data"
        },
        {
          "name": "stdout",
          "output_type": "stream",
          "text": [
            "\n",
            "logistic accuracy: 0.5344827586206896\n",
            "lasso accuracy: 0.5652709359605911\n",
            "elasticnet accuracy: 0.5135467980295566\n",
            "random_forest accuracy: 0.5899014778325123\n",
            "adaBoost accuracy: 0.5714285714285714\n",
            "Grbf accuracy: 0.5307881773399015\n",
            "deep_nn accuracy: 0.520935960591133\n",
            "GNB accuracy: 0.6083743842364532\n",
            "logistic accuracy: 0.8596059113300493\n",
            "lasso accuracy: 0.8435960591133005\n",
            "elasticnet accuracy: 0.6810344827586207\n",
            "random_forest accuracy: 0.7869458128078818\n",
            "adaBoost accuracy: 0.7733990147783252\n",
            "Grbf accuracy: 0.4938423645320197\n",
            "deep_nn accuracy: 0.8177339901477833\n",
            "GNB accuracy: 0.6761083743842364\n"
          ]
        }
      ],
      "source": [
        "# y_test remains secret to clfs\n",
        "m2_prediction_text, m2_subpred_text, y_sub_test = m2_lv0_wrap(m2_df_level0_train['text'], \n",
        "                                                                     m2_df_level0_hideout['text'],\n",
        "                                                                     m2_df_level0_train['gender'])\n",
        "\n",
        "m2_prediction_desc, m2_subpred_desc, y_sub_test = m2_lv0_wrap(m2_df_level0_train['description'], \n",
        "                                                                     m2_df_level0_hideout['description'],\n",
        "                                                                     m2_df_level0_train['gender'])"
      ]
    },
    {
      "cell_type": "code",
      "execution_count": null,
      "metadata": {
        "colab": {},
        "colab_type": "code",
        "id": "Hg1jrfuA3eSg"
      },
      "outputs": [],
      "source": [
        "# Gathering Train set from inner loop\n",
        "\n",
        "m2_subpred_text = m2_subpred_text.pivot(index= None, columns= 'clf_name', values= 'prob_male')\n",
        "m2_subpred_desc = m2_subpred_desc.pivot(index= None, columns= 'clf_name', values= 'prob_male')\n",
        "\n",
        "y_sub_test.reset_index(drop= True, inplace= True)\n",
        "m2_df_level1_train = pd.concat([m2_subpred_text, m2_subpred_desc, y_sub_test], axis= 1)\n",
        "pd.set_option('display.max_colwidth', -1)\n",
        "m2_df_level1_train.shape\n",
        "\n",
        "# Gathering Valdate set from Hideout\n",
        "\n",
        "m2_df_level0_hideout['gender'].reset_index(drop= True, inplace= True)\n",
        "m2_df_level1_val = pd.concat([m2_prediction_text, m2_prediction_desc, m2_df_level0_hideout['gender']], axis= 1)\n",
        "pd.set_option('display.max_colwidth', -1)\n",
        "m2_df_level1_val.shape"
      ]
    },
    {
      "cell_type": "code",
      "execution_count": 25,
      "metadata": {
        "colab": {
          "base_uri": "https://localhost:8080/",
          "height": 34
        },
        "colab_type": "code",
        "id": "8fGF-smr3eXv",
        "outputId": "e82b1535-39a2-4faa-972c-af578998a380"
      },
      "outputs": [
        {
          "name": "stdout",
          "output_type": "stream",
          "text": [
            "(812, 16)\n"
          ]
        }
      ],
      "source": [
        "m2_X_train = m2_df_level1_train.loc[:, m2_df_level1_val.columns != 'gender']\n",
        "m2_y_train = m2_df_level1_train['gender']\n",
        "\n",
        "m2_X_val = m2_df_level1_val.loc[:, m2_df_level1_val.columns != 'gender'] \n",
        "m2_y_val = m2_df_level1_val['gender']\n",
        "\n",
        "print(m2_X_train.shape)"
      ]
    },
    {
      "cell_type": "code",
      "execution_count": null,
      "metadata": {},
      "outputs": [],
      "source": []
    },
    {
      "cell_type": "markdown",
      "metadata": {},
      "source": [
        "### Layer 1\n",
        "\n",
        "Build pipeline to apply the prediction from layer 0 fit in multiple models \n",
        "Verify and select the best algorithm for the second layer classifier"
      ]
    },
    {
      "cell_type": "code",
      "execution_count": 26,
      "metadata": {
        "colab": {},
        "colab_type": "code",
        "id": "k6pUGtbz3ht3"
      },
      "outputs": [],
      "source": [
        "# Generate the prediction\n",
        "def m2_simple_lv1(X_train, X_test, y_train, y_test):\n",
        "\n",
        "    estimators=[\n",
        "        ('logistic',LogisticRegression(solver='liblinear',penalty='l2')),\n",
        "        ('lasso',LogisticRegression(solver='liblinear',penalty='l1')),\n",
        "        ('elasticnet',SGDClassifier(loss='log', penalty='elasticnet')),\n",
        "        ('random_forest',RandomForestClassifier()),\n",
        "        ( 'adaBoost', AdaBoostClassifier()),\n",
        "        ('SVCrbf', SVC(kernel= 'rbf')),\n",
        "        ('SVClinear',SVC(kernel=\"linear\")),\n",
        "        ('LSVC', LinearSVC()),\n",
        "        ('Grbf', GaussianProcessClassifier(1.0 * RBF(1.0))),\n",
        "        ('deep_nn',MLPClassifier()),\n",
        "        ('knn',KNeighborsClassifier(n_neighbors=5,weights='distance',algorithm='auto')),\n",
        "        ('GNB', GaussianNB())\n",
        "        ]\n",
        "    \n",
        "    scores=[]\n",
        "    for model in estimators:\n",
        "        pipe=Pipeline(steps=[(model)])\n",
        "        pipe.fit(X_train, y_train)\n",
        "        score = pipe.score(X_test, y_test)\n",
        "        scores.append([score, model])\n",
        "        \n",
        "        \n",
        "    return (scores)"
      ]
    },
    {
      "cell_type": "code",
      "execution_count": null,
      "metadata": {
        "colab": {},
        "colab_type": "code",
        "id": "HRqODbJF3jGz"
      },
      "outputs": [],
      "source": [
        "m2_scores = m2_simple_lv1(m2_X_train, m2_X_val, m2_y_train, m2_y_val)\n",
        "m2_scores"
      ]
    },
    {
      "cell_type": "markdown",
      "metadata": {},
      "source": [
        "### Verification "
      ]
    },
    {
      "cell_type": "code",
      "execution_count": 28,
      "metadata": {
        "colab": {
          "base_uri": "https://localhost:8080/",
          "height": 51
        },
        "colab_type": "code",
        "id": "39phfG70W3ax",
        "outputId": "7358d9b9-6f2f-42ca-be49-92f344a93fc3"
      },
      "outputs": [
        {
          "name": "stderr",
          "output_type": "stream",
          "text": [
            "/usr/local/lib/python3.6/dist-packages/statsmodels/tools/_testing.py:19: FutureWarning: pandas.util.testing is deprecated. Use the functions in the public API at pandas.testing instead.\n",
            "  import pandas.util.testing as tm\n"
          ]
        }
      ],
      "source": [
        "def ROCChart(clf, y_true, y_proba):\n",
        "  \n",
        "  fpr, tpr, _ = roc_curve(y_true,  y_proba, pos_label= '1')\n",
        "  auc = roc_auc_score(y_true, y_proba)\n",
        "  result_table = pd.DataFrame(columns=['classifiers', 'fpr','tpr','auc'])\n",
        "  result_table = result_table.append({'classifiers':clf.__class__.__name__ ,\n",
        "                                      'fpr':fpr, \n",
        "                                      'tpr':tpr, \n",
        "                                      'auc':auc}, ignore_index=True)\n",
        "  result_table.set_index('classifiers', inplace=True)\n",
        "  \n",
        "  fig = plt.figure(figsize=(8,6))\n",
        "  \n",
        "  for i in result_table.index:\n",
        "    plt.plot(result_table.loc[i]['fpr'], \n",
        "             result_table.loc[i]['tpr'], \n",
        "             label=\"{}, AUC={:.3f}\".format(i, result_table.loc[i]['auc']))\n",
        "    \n",
        "    plt.plot([0,1], [0,1], color='orange', linestyle='--')\n",
        "    \n",
        "    plt.xticks(np.arange(0.0, 1.1, step=0.1))\n",
        "    plt.xlabel(\"Flase Positive Rate\", fontsize=15)\n",
        "    \n",
        "    plt.yticks(np.arange(0.0, 1.1, step=0.1))\n",
        "    plt.ylabel(\"True Positive Rate\", fontsize=15)\n",
        "    \n",
        "    plt.title('ROC Curve Analysis', fontweight='bold', fontsize=15)\n",
        "    plt.legend(prop={'size':13}, loc='lower right')\n",
        "    plt.show()"
      ]
    },
    {
      "cell_type": "code",
      "execution_count": 29,
      "metadata": {
        "colab": {
          "base_uri": "https://localhost:8080/",
          "height": 51
        },
        "colab_type": "code",
        "id": "Obue5KQhmdFz",
        "outputId": "c9095caf-089d-413c-9dab-04ee4bde17de"
      },
      "outputs": [
        {
          "name": "stdout",
          "output_type": "stream",
          "text": [
            "best parameters:  {'criterion': 'gini', 'n_estimators': 2000, 'oob_score': 'True'}\n",
            "best scrores:  0.8595849428160266\n"
          ]
        }
      ],
      "source": [
        "parameters = {'criterion': ['entropy', 'gini'], 'n_estimators': [100, 1000, 2000], 'oob_score': ['True', 'False']}\n",
        "grid_search = GridSearchCV(RandomForestClassifier(random_state= 24), parameters, cv=5, return_train_score=True)\n",
        "grid_search.fit(m2_X_train, m2_y_train)\n",
        "\n",
        "\n",
        "print('best parameters: ', grid_search.best_params_)\n",
        "print('best scrores: ', grid_search.best_score_)"
      ]
    },
    {
      "cell_type": "markdown",
      "metadata": {},
      "source": [
        "#### Verification and determine which algorithm for layer 1 classifier"
      ]
    },
    {
      "cell_type": "code",
      "execution_count": 31,
      "metadata": {
        "colab": {
          "base_uri": "https://localhost:8080/",
          "height": 564
        },
        "colab_type": "code",
        "id": "gcZgliXT6ooD",
        "outputId": "ccbe647c-0f24-47a4-c80c-74c99a53ae56"
      },
      "outputs": [
        {
          "name": "stdout",
          "output_type": "stream",
          "text": [
            "              precision    recall  f1-score   support\n",
            "\n",
            "           0       0.87      0.83      0.85       196\n",
            "           1       0.85      0.89      0.87       210\n",
            "\n",
            "    accuracy                           0.86       406\n",
            "   macro avg       0.86      0.86      0.86       406\n",
            "weighted avg       0.86      0.86      0.86       406\n",
            "\n"
          ]
        },
        {
          "data": {
            "image/png": "[encoded data removed]",
            "text/plain": [
              "<Figure size 576x432 with 1 Axes>"
            ]
          },
          "metadata": {
            "needs_background": "light",
            "tags": []
          },
          "output_type": "display_data"
        }
      ],
      "source": [
        "clfR = RandomForestClassifier(random_state= 100, criterion= 'entropy', n_estimators= 100, oob_score= True) \n",
        "clfR.fit(m2_X_train, m2_y_train)\n",
        "clfR.score(m2_X_val, m2_y_val)\n",
        "\n",
        "y_pred = clfR.predict(m2_X_val)\n",
        "y_proba = clfR.predict_proba(m2_X_val)[::,1]\n",
        "y_true = m2_y_val\n",
        "\n",
        "print( skm.classification_report(y_true,y_pred))\n",
        "ROCChart(clfR, y_true, y_proba)"
      ]
    }
  ],
  "metadata": {
    "accelerator": "TPU",
    "colab": {
      "authorship_tag": "ABX9TyOYDTFOdevzYJeL7YCMmsNv",
      "collapsed_sections": [],
      "include_colab_link": true,
      "machine_shape": "hm",
      "name": "Model1.ipynb",
      "provenance": []
    },
    "kernelspec": {
      "display_name": "Python 3",
      "name": "python3"
    },
    "widgets": {
      "application/vnd.jupyter.widget-state+json": {
        "055f5610a4f9474ab8c14720306174fa": {
          "model_module": "@jupyter-widgets/controls",
          "model_name": "FloatProgressModel",
          "state": {
            "_dom_classes": [],
            "_model_module": "@jupyter-widgets/controls",
            "_model_module_version": "1.5.0",
            "_model_name": "FloatProgressModel",
            "_view_count": null,
            "_view_module": "@jupyter-widgets/controls",
            "_view_module_version": "1.5.0",
            "_view_name": "ProgressView",
            "bar_style": "success",
            "description": "Downloading: 100%",
            "description_tooltip": null,
            "layout": "IPY_MODEL_1cb5b405790847eb93e61805d06db462",
            "max": 267967963,
            "min": 0,
            "orientation": "horizontal",
            "style": "IPY_MODEL_abcf51c647ae4eda8a604b67bba6a5af",
            "value": 267967963
          }
        },
        "08659539ccff4ad5a56079047eaf9035": {
          "model_module": "@jupyter-widgets/controls",
          "model_name": "HTMLModel",
          "state": {
            "_dom_classes": [],
            "_model_module": "@jupyter-widgets/controls",
            "_model_module_version": "1.5.0",
            "_model_name": "HTMLModel",
            "_view_count": null,
            "_view_module": "@jupyter-widgets/controls",
            "_view_module_version": "1.5.0",
            "_view_name": "HTMLView",
            "description": "",
            "description_tooltip": null,
            "layout": "IPY_MODEL_b4a63d48f85f46f9b208ddc284706af9",
            "placeholder": "​",
            "style": "IPY_MODEL_463ffeb7deb540d5aac5bc534d8893d5",
            "value": " 442/442 [00:16&lt;00:00, 27.2B/s]"
          }
        },
        "0a772a5384eb4f75a668e33c1b91388d": {
          "model_module": "@jupyter-widgets/controls",
          "model_name": "HBoxModel",
          "state": {
            "_dom_classes": [],
            "_model_module": "@jupyter-widgets/controls",
            "_model_module_version": "1.5.0",
            "_model_name": "HBoxModel",
            "_view_count": null,
            "_view_module": "@jupyter-widgets/controls",
            "_view_module_version": "1.5.0",
            "_view_name": "HBoxView",
            "box_style": "",
            "children": [
              "IPY_MODEL_6a69b814391a4de09c7237ee52d3c05b",
              "IPY_MODEL_c92fd2fc7fc3459aad8198a8108aac99"
            ],
            "layout": "IPY_MODEL_c4455082e5854056a66482cdfcb65d58"
          }
        },
        "0be4a127c4fe4417882f1754e416e952": {
          "model_module": "@jupyter-widgets/base",
          "model_name": "LayoutModel",
          "state": {
            "_model_module": "@jupyter-widgets/base",
            "_model_module_version": "1.2.0",
            "_model_name": "LayoutModel",
            "_view_count": null,
            "_view_module": "@jupyter-widgets/base",
            "_view_module_version": "1.2.0",
            "_view_name": "LayoutView",
            "align_content": null,
            "align_items": null,
            "align_self": null,
            "border": null,
            "bottom": null,
            "display": null,
            "flex": null,
            "flex_flow": null,
            "grid_area": null,
            "grid_auto_columns": null,
            "grid_auto_flow": null,
            "grid_auto_rows": null,
            "grid_column": null,
            "grid_gap": null,
            "grid_row": null,
            "grid_template_areas": null,
            "grid_template_columns": null,
            "grid_template_rows": null,
            "height": null,
            "justify_content": null,
            "justify_items": null,
            "left": null,
            "margin": null,
            "max_height": null,
            "max_width": null,
            "min_height": null,
            "min_width": null,
            "object_fit": null,
            "object_position": null,
            "order": null,
            "overflow": null,
            "overflow_x": null,
            "overflow_y": null,
            "padding": null,
            "right": null,
            "top": null,
            "visibility": null,
            "width": null
          }
        },
        "1017b2c52b9342b9b697f683f3dc476f": {
          "model_module": "@jupyter-widgets/base",
          "model_name": "LayoutModel",
          "state": {
            "_model_module": "@jupyter-widgets/base",
            "_model_module_version": "1.2.0",
            "_model_name": "LayoutModel",
            "_view_count": null,
            "_view_module": "@jupyter-widgets/base",
            "_view_module_version": "1.2.0",
            "_view_name": "LayoutView",
            "align_content": null,
            "align_items": null,
            "align_self": null,
            "border": null,
            "bottom": null,
            "display": null,
            "flex": null,
            "flex_flow": null,
            "grid_area": null,
            "grid_auto_columns": null,
            "grid_auto_flow": null,
            "grid_auto_rows": null,
            "grid_column": null,
            "grid_gap": null,
            "grid_row": null,
            "grid_template_areas": null,
            "grid_template_columns": null,
            "grid_template_rows": null,
            "height": null,
            "justify_content": null,
            "justify_items": null,
            "left": null,
            "margin": null,
            "max_height": null,
            "max_width": null,
            "min_height": null,
            "min_width": null,
            "object_fit": null,
            "object_position": null,
            "order": null,
            "overflow": null,
            "overflow_x": null,
            "overflow_y": null,
            "padding": null,
            "right": null,
            "top": null,
            "visibility": null,
            "width": null
          }
        },
        "19a360d179334e7d9359f080a80c9b0c": {
          "model_module": "@jupyter-widgets/base",
          "model_name": "LayoutModel",
          "state": {
            "_model_module": "@jupyter-widgets/base",
            "_model_module_version": "1.2.0",
            "_model_name": "LayoutModel",
            "_view_count": null,
            "_view_module": "@jupyter-widgets/base",
            "_view_module_version": "1.2.0",
            "_view_name": "LayoutView",
            "align_content": null,
            "align_items": null,
            "align_self": null,
            "border": null,
            "bottom": null,
            "display": null,
            "flex": null,
            "flex_flow": null,
            "grid_area": null,
            "grid_auto_columns": null,
            "grid_auto_flow": null,
            "grid_auto_rows": null,
            "grid_column": null,
            "grid_gap": null,
            "grid_row": null,
            "grid_template_areas": null,
            "grid_template_columns": null,
            "grid_template_rows": null,
            "height": null,
            "justify_content": null,
            "justify_items": null,
            "left": null,
            "margin": null,
            "max_height": null,
            "max_width": null,
            "min_height": null,
            "min_width": null,
            "object_fit": null,
            "object_position": null,
            "order": null,
            "overflow": null,
            "overflow_x": null,
            "overflow_y": null,
            "padding": null,
            "right": null,
            "top": null,
            "visibility": null,
            "width": null
          }
        },
        "1a1d168fbd3345338fb45d202800fbb1": {
          "model_module": "@jupyter-widgets/controls",
          "model_name": "DescriptionStyleModel",
          "state": {
            "_model_module": "@jupyter-widgets/controls",
            "_model_module_version": "1.5.0",
            "_model_name": "DescriptionStyleModel",
            "_view_count": null,
            "_view_module": "@jupyter-widgets/base",
            "_view_module_version": "1.2.0",
            "_view_name": "StyleView",
            "description_width": ""
          }
        },
        "1c402fc86b3242f2b916aa4edeac0165": {
          "model_module": "@jupyter-widgets/controls",
          "model_name": "ProgressStyleModel",
          "state": {
            "_model_module": "@jupyter-widgets/controls",
            "_model_module_version": "1.5.0",
            "_model_name": "ProgressStyleModel",
            "_view_count": null,
            "_view_module": "@jupyter-widgets/base",
            "_view_module_version": "1.2.0",
            "_view_name": "StyleView",
            "bar_color": null,
            "description_width": "initial"
          }
        },
        "1cb5b405790847eb93e61805d06db462": {
          "model_module": "@jupyter-widgets/base",
          "model_name": "LayoutModel",
          "state": {
            "_model_module": "@jupyter-widgets/base",
            "_model_module_version": "1.2.0",
            "_model_name": "LayoutModel",
            "_view_count": null,
            "_view_module": "@jupyter-widgets/base",
            "_view_module_version": "1.2.0",
            "_view_name": "LayoutView",
            "align_content": null,
            "align_items": null,
            "align_self": null,
            "border": null,
            "bottom": null,
            "display": null,
            "flex": null,
            "flex_flow": null,
            "grid_area": null,
            "grid_auto_columns": null,
            "grid_auto_flow": null,
            "grid_auto_rows": null,
            "grid_column": null,
            "grid_gap": null,
            "grid_row": null,
            "grid_template_areas": null,
            "grid_template_columns": null,
            "grid_template_rows": null,
            "height": null,
            "justify_content": null,
            "justify_items": null,
            "left": null,
            "margin": null,
            "max_height": null,
            "max_width": null,
            "min_height": null,
            "min_width": null,
            "object_fit": null,
            "object_position": null,
            "order": null,
            "overflow": null,
            "overflow_x": null,
            "overflow_y": null,
            "padding": null,
            "right": null,
            "top": null,
            "visibility": null,
            "width": null
          }
        },
        "2a69548bbc344de69bc98b8063930e1b": {
          "model_module": "@jupyter-widgets/base",
          "model_name": "LayoutModel",
          "state": {
            "_model_module": "@jupyter-widgets/base",
            "_model_module_version": "1.2.0",
            "_model_name": "LayoutModel",
            "_view_count": null,
            "_view_module": "@jupyter-widgets/base",
            "_view_module_version": "1.2.0",
            "_view_name": "LayoutView",
            "align_content": null,
            "align_items": null,
            "align_self": null,
            "border": null,
            "bottom": null,
            "display": null,
            "flex": null,
            "flex_flow": null,
            "grid_area": null,
            "grid_auto_columns": null,
            "grid_auto_flow": null,
            "grid_auto_rows": null,
            "grid_column": null,
            "grid_gap": null,
            "grid_row": null,
            "grid_template_areas": null,
            "grid_template_columns": null,
            "grid_template_rows": null,
            "height": null,
            "justify_content": null,
            "justify_items": null,
            "left": null,
            "margin": null,
            "max_height": null,
            "max_width": null,
            "min_height": null,
            "min_width": null,
            "object_fit": null,
            "object_position": null,
            "order": null,
            "overflow": null,
            "overflow_x": null,
            "overflow_y": null,
            "padding": null,
            "right": null,
            "top": null,
            "visibility": null,
            "width": null
          }
        },
        "36b0f25bd1084affa624f36ffb51798c": {
          "model_module": "@jupyter-widgets/controls",
          "model_name": "FloatProgressModel",
          "state": {
            "_dom_classes": [],
            "_model_module": "@jupyter-widgets/controls",
            "_model_module_version": "1.5.0",
            "_model_name": "FloatProgressModel",
            "_view_count": null,
            "_view_module": "@jupyter-widgets/controls",
            "_view_module_version": "1.5.0",
            "_view_name": "ProgressView",
            "bar_style": "success",
            "description": "Downloading: 100%",
            "description_tooltip": null,
            "layout": "IPY_MODEL_1017b2c52b9342b9b697f683f3dc476f",
            "max": 442,
            "min": 0,
            "orientation": "horizontal",
            "style": "IPY_MODEL_1c402fc86b3242f2b916aa4edeac0165",
            "value": 442
          }
        },
        "390c4760bdf94cc8bbad30ec52c212ba": {
          "model_module": "@jupyter-widgets/controls",
          "model_name": "HBoxModel",
          "state": {
            "_dom_classes": [],
            "_model_module": "@jupyter-widgets/controls",
            "_model_module_version": "1.5.0",
            "_model_name": "HBoxModel",
            "_view_count": null,
            "_view_module": "@jupyter-widgets/controls",
            "_view_module_version": "1.5.0",
            "_view_name": "HBoxView",
            "box_style": "",
            "children": [
              "IPY_MODEL_055f5610a4f9474ab8c14720306174fa",
              "IPY_MODEL_5df2acaaa82540f693ea99cbd6b2719f"
            ],
            "layout": "IPY_MODEL_6ec5ef4ce9eb4e4aa3cf6547a2426ed8"
          }
        },
        "463ffeb7deb540d5aac5bc534d8893d5": {
          "model_module": "@jupyter-widgets/controls",
          "model_name": "DescriptionStyleModel",
          "state": {
            "_model_module": "@jupyter-widgets/controls",
            "_model_module_version": "1.5.0",
            "_model_name": "DescriptionStyleModel",
            "_view_count": null,
            "_view_module": "@jupyter-widgets/base",
            "_view_module_version": "1.2.0",
            "_view_name": "StyleView",
            "description_width": ""
          }
        },
        "50b76f04e1c0457a8c06f574eb7a8adc": {
          "model_module": "@jupyter-widgets/controls",
          "model_name": "ProgressStyleModel",
          "state": {
            "_model_module": "@jupyter-widgets/controls",
            "_model_module_version": "1.5.0",
            "_model_name": "ProgressStyleModel",
            "_view_count": null,
            "_view_module": "@jupyter-widgets/base",
            "_view_module_version": "1.2.0",
            "_view_name": "StyleView",
            "bar_color": null,
            "description_width": "initial"
          }
        },
        "5df2acaaa82540f693ea99cbd6b2719f": {
          "model_module": "@jupyter-widgets/controls",
          "model_name": "HTMLModel",
          "state": {
            "_dom_classes": [],
            "_model_module": "@jupyter-widgets/controls",
            "_model_module_version": "1.5.0",
            "_model_name": "HTMLModel",
            "_view_count": null,
            "_view_module": "@jupyter-widgets/controls",
            "_view_module_version": "1.5.0",
            "_view_name": "HTMLView",
            "description": "",
            "description_tooltip": null,
            "layout": "IPY_MODEL_19a360d179334e7d9359f080a80c9b0c",
            "placeholder": "​",
            "style": "IPY_MODEL_b930ca1e9ae74939aa0dc7e51b0a0402",
            "value": " 268M/268M [00:15&lt;00:00, 17.0MB/s]"
          }
        },
        "6a69b814391a4de09c7237ee52d3c05b": {
          "model_module": "@jupyter-widgets/controls",
          "model_name": "FloatProgressModel",
          "state": {
            "_dom_classes": [],
            "_model_module": "@jupyter-widgets/controls",
            "_model_module_version": "1.5.0",
            "_model_name": "FloatProgressModel",
            "_view_count": null,
            "_view_module": "@jupyter-widgets/controls",
            "_view_module_version": "1.5.0",
            "_view_name": "ProgressView",
            "bar_style": "success",
            "description": "Downloading: 100%",
            "description_tooltip": null,
            "layout": "IPY_MODEL_2a69548bbc344de69bc98b8063930e1b",
            "max": 231508,
            "min": 0,
            "orientation": "horizontal",
            "style": "IPY_MODEL_50b76f04e1c0457a8c06f574eb7a8adc",
            "value": 231508
          }
        },
        "6ec5ef4ce9eb4e4aa3cf6547a2426ed8": {
          "model_module": "@jupyter-widgets/base",
          "model_name": "LayoutModel",
          "state": {
            "_model_module": "@jupyter-widgets/base",
            "_model_module_version": "1.2.0",
            "_model_name": "LayoutModel",
            "_view_count": null,
            "_view_module": "@jupyter-widgets/base",
            "_view_module_version": "1.2.0",
            "_view_name": "LayoutView",
            "align_content": null,
            "align_items": null,
            "align_self": null,
            "border": null,
            "bottom": null,
            "display": null,
            "flex": null,
            "flex_flow": null,
            "grid_area": null,
            "grid_auto_columns": null,
            "grid_auto_flow": null,
            "grid_auto_rows": null,
            "grid_column": null,
            "grid_gap": null,
            "grid_row": null,
            "grid_template_areas": null,
            "grid_template_columns": null,
            "grid_template_rows": null,
            "height": null,
            "justify_content": null,
            "justify_items": null,
            "left": null,
            "margin": null,
            "max_height": null,
            "max_width": null,
            "min_height": null,
            "min_width": null,
            "object_fit": null,
            "object_position": null,
            "order": null,
            "overflow": null,
            "overflow_x": null,
            "overflow_y": null,
            "padding": null,
            "right": null,
            "top": null,
            "visibility": null,
            "width": null
          }
        },
        "771d58ba238e4bc1a4709ab081cc14cb": {
          "model_module": "@jupyter-widgets/base",
          "model_name": "LayoutModel",
          "state": {
            "_model_module": "@jupyter-widgets/base",
            "_model_module_version": "1.2.0",
            "_model_name": "LayoutModel",
            "_view_count": null,
            "_view_module": "@jupyter-widgets/base",
            "_view_module_version": "1.2.0",
            "_view_name": "LayoutView",
            "align_content": null,
            "align_items": null,
            "align_self": null,
            "border": null,
            "bottom": null,
            "display": null,
            "flex": null,
            "flex_flow": null,
            "grid_area": null,
            "grid_auto_columns": null,
            "grid_auto_flow": null,
            "grid_auto_rows": null,
            "grid_column": null,
            "grid_gap": null,
            "grid_row": null,
            "grid_template_areas": null,
            "grid_template_columns": null,
            "grid_template_rows": null,
            "height": null,
            "justify_content": null,
            "justify_items": null,
            "left": null,
            "margin": null,
            "max_height": null,
            "max_width": null,
            "min_height": null,
            "min_width": null,
            "object_fit": null,
            "object_position": null,
            "order": null,
            "overflow": null,
            "overflow_x": null,
            "overflow_y": null,
            "padding": null,
            "right": null,
            "top": null,
            "visibility": null,
            "width": null
          }
        },
        "867db754721d4a82b9d5b14adc028641": {
          "model_module": "@jupyter-widgets/controls",
          "model_name": "HBoxModel",
          "state": {
            "_dom_classes": [],
            "_model_module": "@jupyter-widgets/controls",
            "_model_module_version": "1.5.0",
            "_model_name": "HBoxModel",
            "_view_count": null,
            "_view_module": "@jupyter-widgets/controls",
            "_view_module_version": "1.5.0",
            "_view_name": "HBoxView",
            "box_style": "",
            "children": [
              "IPY_MODEL_36b0f25bd1084affa624f36ffb51798c",
              "IPY_MODEL_08659539ccff4ad5a56079047eaf9035"
            ],
            "layout": "IPY_MODEL_771d58ba238e4bc1a4709ab081cc14cb"
          }
        },
        "abcf51c647ae4eda8a604b67bba6a5af": {
          "model_module": "@jupyter-widgets/controls",
          "model_name": "ProgressStyleModel",
          "state": {
            "_model_module": "@jupyter-widgets/controls",
            "_model_module_version": "1.5.0",
            "_model_name": "ProgressStyleModel",
            "_view_count": null,
            "_view_module": "@jupyter-widgets/base",
            "_view_module_version": "1.2.0",
            "_view_name": "StyleView",
            "bar_color": null,
            "description_width": "initial"
          }
        },
        "b4a63d48f85f46f9b208ddc284706af9": {
          "model_module": "@jupyter-widgets/base",
          "model_name": "LayoutModel",
          "state": {
            "_model_module": "@jupyter-widgets/base",
            "_model_module_version": "1.2.0",
            "_model_name": "LayoutModel",
            "_view_count": null,
            "_view_module": "@jupyter-widgets/base",
            "_view_module_version": "1.2.0",
            "_view_name": "LayoutView",
            "align_content": null,
            "align_items": null,
            "align_self": null,
            "border": null,
            "bottom": null,
            "display": null,
            "flex": null,
            "flex_flow": null,
            "grid_area": null,
            "grid_auto_columns": null,
            "grid_auto_flow": null,
            "grid_auto_rows": null,
            "grid_column": null,
            "grid_gap": null,
            "grid_row": null,
            "grid_template_areas": null,
            "grid_template_columns": null,
            "grid_template_rows": null,
            "height": null,
            "justify_content": null,
            "justify_items": null,
            "left": null,
            "margin": null,
            "max_height": null,
            "max_width": null,
            "min_height": null,
            "min_width": null,
            "object_fit": null,
            "object_position": null,
            "order": null,
            "overflow": null,
            "overflow_x": null,
            "overflow_y": null,
            "padding": null,
            "right": null,
            "top": null,
            "visibility": null,
            "width": null
          }
        },
        "b930ca1e9ae74939aa0dc7e51b0a0402": {
          "model_module": "@jupyter-widgets/controls",
          "model_name": "DescriptionStyleModel",
          "state": {
            "_model_module": "@jupyter-widgets/controls",
            "_model_module_version": "1.5.0",
            "_model_name": "DescriptionStyleModel",
            "_view_count": null,
            "_view_module": "@jupyter-widgets/base",
            "_view_module_version": "1.2.0",
            "_view_name": "StyleView",
            "description_width": ""
          }
        },
        "c4455082e5854056a66482cdfcb65d58": {
          "model_module": "@jupyter-widgets/base",
          "model_name": "LayoutModel",
          "state": {
            "_model_module": "@jupyter-widgets/base",
            "_model_module_version": "1.2.0",
            "_model_name": "LayoutModel",
            "_view_count": null,
            "_view_module": "@jupyter-widgets/base",
            "_view_module_version": "1.2.0",
            "_view_name": "LayoutView",
            "align_content": null,
            "align_items": null,
            "align_self": null,
            "border": null,
            "bottom": null,
            "display": null,
            "flex": null,
            "flex_flow": null,
            "grid_area": null,
            "grid_auto_columns": null,
            "grid_auto_flow": null,
            "grid_auto_rows": null,
            "grid_column": null,
            "grid_gap": null,
            "grid_row": null,
            "grid_template_areas": null,
            "grid_template_columns": null,
            "grid_template_rows": null,
            "height": null,
            "justify_content": null,
            "justify_items": null,
            "left": null,
            "margin": null,
            "max_height": null,
            "max_width": null,
            "min_height": null,
            "min_width": null,
            "object_fit": null,
            "object_position": null,
            "order": null,
            "overflow": null,
            "overflow_x": null,
            "overflow_y": null,
            "padding": null,
            "right": null,
            "top": null,
            "visibility": null,
            "width": null
          }
        },
        "c92fd2fc7fc3459aad8198a8108aac99": {
          "model_module": "@jupyter-widgets/controls",
          "model_name": "HTMLModel",
          "state": {
            "_dom_classes": [],
            "_model_module": "@jupyter-widgets/controls",
            "_model_module_version": "1.5.0",
            "_model_name": "HTMLModel",
            "_view_count": null,
            "_view_module": "@jupyter-widgets/controls",
            "_view_module_version": "1.5.0",
            "_view_name": "HTMLView",
            "description": "",
            "description_tooltip": null,
            "layout": "IPY_MODEL_0be4a127c4fe4417882f1754e416e952",
            "placeholder": "​",
            "style": "IPY_MODEL_1a1d168fbd3345338fb45d202800fbb1",
            "value": " 232k/232k [00:00&lt;00:00, 1.41MB/s]"
          }
        }
      }
    }
  },
  "nbformat": 4,
  "nbformat_minor": 0
}
