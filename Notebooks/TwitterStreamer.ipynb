{
 "cells": [
  {
   "cell_type": "code",
   "execution_count": 1,
   "metadata": {},
   "outputs": [],
   "source": [
    "from tweepy import API\n",
    "from tweepy.streaming import StreamListener\n",
    "from tweepy import OAuthHandler\n",
    "from tweepy import Stream\n",
    "import tweepy\n",
    "import json\n",
    "import sys\n",
    "import pandas as pd"
   ]
  },
  {
   "cell_type": "code",
   "execution_count": null,
   "metadata": {},
   "outputs": [],
   "source": [
    "#create authentication for API access\n",
    "\n",
    "CONSUMER_KEY = '######################' #your key & token\n",
    "CONSUMER_SECRET = '######################'\n",
    "ACCESS_TOKEN = '######################'\n",
    "ACCESS_TOKEN_SECRET = '######################'\n",
    "\n",
    "auth = OAuthHandler(CONSUMER_KEY, CONSUMER_SECRET)\n",
    "auth.set_access_token(ACCESS_TOKEN, ACCESS_TOKEN_SECRET)\n",
    "api = API(auth, wait_on_rate_limit=True,\n",
    "          wait_on_rate_limit_notify=True)\n",
    "\n",
    "#define Streamer\n",
    "\n",
    "class Listener(StreamListener):\n",
    "    def __init__(self):\n",
    "        super(Listener,self).__init__()\n",
    "        self.output_list = [ ]\n",
    "        \n",
    "    def on_status(self, status):\n",
    "        self.output_list.append(status)\n",
    "        if (not status.retweeted) and ('RT @' not in status.text):  #exclude retweet\n",
    "            self.output_list.append(status)\n",
    "        else:\n",
    "            pass\n",
    "    \n",
    "    def on_error(self, status_code):\n",
    "        print(status_code)\n",
    "        return False"
   ]
  },
  {
   "cell_type": "code",
   "execution_count": null,
   "metadata": {},
   "outputs": [],
   "source": [
    "#execute data collection\n",
    "\n",
    "l = Listener()\n",
    "stream = Stream(auth=api.auth, listener=l)\n",
    "try:\n",
    "    print('Start streaming.')\n",
    "    stream.filter(track = ['###']  #your keywords or hashtags here\n",
    "                  ,languages=['en']) \n",
    "    \n",
    "except KeyboardInterrupt:\n",
    "    print(\"Stopped.\")\n",
    "    \n",
    "finally:\n",
    "    print('Done.')\n",
    "    stream.disconnect()"
   ]
  },
  {
   "cell_type": "code",
   "execution_count": null,
   "metadata": {},
   "outputs": [],
   "source": [
    "#we got json\n",
    "l.output_list[0]._json.keys()"
   ]
  },
  {
   "cell_type": "code",
   "execution_count": null,
   "metadata": {},
   "outputs": [],
   "source": [
    "#convert json to dataframe\n",
    "\n",
    "#choose the objects you need\n",
    "dict_ = {'screen_name': [], 'id': [], 'location': [], 'created_at': [], 'text': [], \n",
    "        'description': []}\n",
    "\n",
    "for i in range(0,len(l.output_list)):\n",
    "    dict_['screen_name'].append(l.output_list[i]._json['user']['screen_name'])\n",
    "    dict_['id'].append(str(l.output_list[i]._json['user']['id_str']))\n",
    "    dict_['location'].append(l.output_list[i]._json['user']['location'])\n",
    "    dict_['created_at'].append(l.output_list[i]._json['created_at'])\n",
    "    dict_['text'].append(l.output_list[i]._json['text'])\n",
    "    dict_['description'].append(l.output_list[i]._json['user']['description'])\n",
    "    \n",
    "\n",
    "df = pd.DataFrame(dict_)\n",
    "df.sort_values(by='created_at', inplace=True, ascending=False)\n",
    "df.reset_index(drop= True, inplace= True)\n",
    "df.head(5)"
   ]
  }
 ],
 "metadata": {
  "kernelspec": {
   "display_name": "Python 3",
   "language": "python",
   "name": "python3"
  },
  "language_info": {
   "codemirror_mode": {
    "name": "ipython",
    "version": 3
   },
   "file_extension": ".py",
   "mimetype": "text/x-python",
   "name": "python",
   "nbconvert_exporter": "python",
   "pygments_lexer": "ipython3",
   "version": "3.7.3"
  }
 },
 "nbformat": 4,
 "nbformat_minor": 2
}
